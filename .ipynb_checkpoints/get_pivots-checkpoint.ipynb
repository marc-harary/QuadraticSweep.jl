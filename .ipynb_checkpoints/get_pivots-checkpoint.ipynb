{
 "cells": [
  {
   "cell_type": "code",
   "execution_count": 1,
   "id": "39e251eb-f112-463f-b517-f3a0caed23eb",
   "metadata": {},
   "outputs": [],
   "source": [
    "using Random\n",
    "using Statistics\n",
    "using Combinatorics\n",
    "using ProgressMeter\n",
    "using Gurobi\n",
    "using JuMP\n",
    "using Suppressor\n",
    "using LinearAlgebra\n",
    "using Plots\n",
    "using Distributions\n",
    "using DataFrames\n",
    "using CSV\n",
    "using LaTeXStrings"
   ]
  },
  {
   "cell_type": "code",
   "execution_count": 2,
   "id": "b61d6066-8612-471b-b636-0485b691506d",
   "metadata": {},
   "outputs": [],
   "source": [
    "function brute_force(x::Vector{Float64}, y::Vector{Float64}, k::Int, score::Function; min_::Bool=false)::Tuple{Vector{Int64},Vector{Int64}}\n",
    "    @assert size(x)==size(y) \"x and y must be the same shape\"\n",
    "    @assert k<size(x, 1) \"k must be less than n\"\n",
    "\n",
    "    n = size(x, 1)\n",
    "    best_val = min_ ? Inf : -Inf\n",
    "    best_idxs = nothing\n",
    "    \n",
    "    # Try each subset of size k\n",
    "    for idxs in combinations(1:n, k)\n",
    "        val = score(x[idxs], y[idxs])\n",
    "        if (min_ && val < best_val) || (!min_ && val > best_val)\n",
    "            best_val = val\n",
    "            best_idxs = idxs\n",
    "        end\n",
    "    end\n",
    "\n",
    "    # Get complement of best set\n",
    "    comp_idxs = setdiff(1:n, best_idxs)\n",
    "\n",
    "    return best_idxs, comp_idxs\n",
    "end;"
   ]
  },
  {
   "cell_type": "code",
   "execution_count": 3,
   "id": "8652dd8d-d51c-4e3a-a1a7-987e00caf6d4",
   "metadata": {},
   "outputs": [
    {
     "data": {
      "text/plain": [
       "get_triple (generic function with 1 method)"
      ]
     },
     "execution_count": 3,
     "metadata": {},
     "output_type": "execute_result"
    }
   ],
   "source": [
    "function get_triple(X, Y, idxs, lift)\n",
    "     LX = lift(X, Y)\n",
    "     d = size(LX, 2)\n",
    "     LX = LX[idxs, :]\n",
    "     LX_aug = hcat(LX, ones(d))\n",
    "     N = nullspace(LX_aug)\n",
    "     N[:]\n",
    "end"
   ]
  },
  {
   "cell_type": "code",
   "execution_count": 4,
   "id": "4af398c2-0a98-475b-bad8-e3bd0854c8d1",
   "metadata": {},
   "outputs": [],
   "source": [
    "function get_rect_hyperbola(N::Vector{Float64}, x::Vector{Float64})\n",
    "    a, b, c, d, e = N\n",
    "    disc = d^2 .- 4 .* b .* (a .* x.^2 .+ c .* x .+ e)\n",
    "    idxs = disc .>= 0\n",
    "    disc = Complex.(disc)\n",
    "    y1 = (-d .+ sqrt.(disc)) ./ (2 * b)\n",
    "    y2 = (-d .- sqrt.(disc)) ./ (2 * b)\n",
    "    x, y1, y2 = x[idxs], y1[idxs], y2[idxs]\n",
    "    x, y1, y2 = Real.(x), Real.(y1), Real.(y2)\n",
    "    x, y1, y2\n",
    "end;"
   ]
  },
  {
   "cell_type": "code",
   "execution_count": 5,
   "id": "f120d3a8-030a-4e4f-ac2b-e919cea5d69a",
   "metadata": {},
   "outputs": [
    {
     "data": {
      "text/plain": [
       "get_pivots (generic function with 1 method)"
      ]
     },
     "execution_count": 5,
     "metadata": {},
     "output_type": "execute_result"
    }
   ],
   "source": [
    "function get_pivots(L, best_idxs; eps=1e-10)\n",
    "    n, d = size(L)\n",
    "    L_aug = hcat(L, ones(n))\n",
    "    comp_idxs = setdiff(1:n, best_idxs)\n",
    "    pivots = []\n",
    "    for P in combinations(1:n, d)\n",
    "        N = nullspace(L_aug[P, :])\n",
    "        best_ = setdiff(best_idxs, P)\n",
    "        comp_ = setdiff(comp_idxs, P)\n",
    "        best_prod = L_aug[best_, :] * N\n",
    "        comp_prod = L_aug[comp_, :] * N\n",
    "        if (all(best_prod .<= eps) && all(comp_prod .>= -eps)) ||  (all(best_prod .>= -eps) && all(comp_prod .<= eps))\n",
    "            push!(pivots, (P, N[:]))\n",
    "        end\n",
    "    end\n",
    "    pivots\n",
    "end"
   ]
  },
  {
   "cell_type": "markdown",
   "id": "94707433-cbf6-4a10-8d32-21d17df652f5",
   "metadata": {},
   "source": [
    "## Visualize pivots and boundaries for dataset below"
   ]
  },
  {
   "cell_type": "code",
   "execution_count": null,
   "id": "ba6584c7-edd9-42c8-abc5-3705054a8b43",
   "metadata": {},
   "outputs": [],
   "source": [
    "n = 15\n",
    "k = 8\n",
    "lift = (x, y) -> hcat(x.^2, y.^2, x, y)\n",
    "\n",
    "seed = 123\n",
    "seed = rand(UInt128)\n",
    "Random.seed!(seed)\n",
    "\n",
    "x = rand(n)\n",
    "y = rand(n)\n",
    "\n",
    "best_idxs, comp_idxs = brute_force(x, y, k, (x, y) -> var(x) - var(y))\n",
    "\n",
    "p = scatter(x[best_idxs], y[best_idxs], label=\"I\")\n",
    "scatter!(x[comp_idxs], y[comp_idxs], label=\"O\")\n",
    "\n",
    "L = hcat(x.^2, y.^2, x, y)\n",
    "pivots = get_pivots(L, best_idxs)\n",
    "\n",
    "for (_, N) in pivots\n",
    "     xplot = collect(0:0.01:1)\n",
    "     xplot, y1, y2 = get_rect_hyperbola(N, xplot)\n",
    "    plot!(xplot, y1, color=:red, label=nothing)\n",
    "    plot!(xplot, y2, color=:red, label=nothing)\n",
    "end\n",
    "\n",
    "# idxs = [1, 2, 3, 4]\n",
    "# N = get_triple(x, y, idxs, lift)\n",
    "# # @show N\n",
    "#\n",
    "\n",
    "\n",
    "# scatter!(x[idxs], y[idxs])\n",
    "p\n",
    "xlims!(0, 1)\n",
    "ylims!(0, 1)"
   ]
  },
  {
   "cell_type": "markdown",
   "id": "a8d19e83-4145-4269-96ed-a61b3d99fc9c",
   "metadata": {},
   "source": [
    "## Check pivots"
   ]
  },
  {
   "cell_type": "code",
   "execution_count": 6,
   "id": "73f2aed5-be27-40f4-871d-5efc0cff94d7",
   "metadata": {},
   "outputs": [
    {
     "name": "stderr",
     "output_type": "stream",
     "text": [
      "\u001b[32mProgress: 100%|█████████████████████████████████████████| Time: 0:01:01\u001b[39m\n"
     ]
    }
   ],
   "source": [
    "n = 15\n",
    "k = 8\n",
    "score = (x, y) -> cor(x, y)\n",
    "lift = (x, y) -> hcat(x.^2, y.^2, x.*y, x, y)\n",
    "\n",
    "score = (x, y) -> cov(x, y)\n",
    "lift = (x, y) -> hcat(x.*y, x, y)\n",
    "\n",
    "score = (x, y) -> -var(x) - var(y)\n",
    "lift = (x, y) -> hcat(x.^2, y.^2, x, y)\n",
    "\n",
    "@showprogress for i=1:10_000\n",
    "    seed = rand(UInt128)\n",
    "    Random.seed!(seed)\n",
    "    \n",
    "    x = rand(n)\n",
    "    y = rand(n)\n",
    "    \n",
    "    best_idxs, comp_idxs = brute_force(x, y, k, score)\n",
    "\n",
    "    pivots = get_pivots(lift(x, y), best_idxs, eps=0.)\n",
    "    \n",
    "    # x_ctr = mean(x[best_idxs])\n",
    "    # y_ctr = mean(y[best_idxs])\n",
    "    # dists = (x[best_idxs] .- x_ctr).^2 .- (y[best_idxs] .- y_ctr).^2\n",
    "    # i = argmin(dists)\n",
    "\n",
    "    inters = [length(intersect(pivot[1], best_idxs)) for pivot in pivots]\n",
    "    # intersection1 = intersect(pivot_points, comp_idxs)\n",
    "    # intersection2 = intersect(pivot_points, best_idxs)\n",
    "    @assert maximum(inters) > 1\n",
    "end"
   ]
  },
  {
   "cell_type": "code",
   "execution_count": null,
   "id": "cbe21167-657c-46ad-90e0-3e234b6b2628",
   "metadata": {},
   "outputs": [],
   "source": []
  }
 ],
 "metadata": {
  "kernelspec": {
   "display_name": "Julia 1.9.3",
   "language": "julia",
   "name": "julia-1.9"
  },
  "language_info": {
   "file_extension": ".jl",
   "mimetype": "application/julia",
   "name": "julia",
   "version": "1.9.3"
  }
 },
 "nbformat": 4,
 "nbformat_minor": 5
}
