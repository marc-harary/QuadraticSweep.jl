{
 "cells": [
  {
   "cell_type": "code",
   "execution_count": null,
   "id": "76d9c377-bed6-41ab-a5bf-dbc61362fce7",
   "metadata": {},
   "outputs": [],
   "source": [
    "using Random\n",
    "using Statistics\n",
    "using ProgressMeter\n",
    "using Suppressor\n",
    "using PyCall"
   ]
  },
  {
   "cell_type": "code",
   "execution_count": null,
   "id": "7ab0a2d9-5ea1-4dd9-9914-8b98977dc9ca",
   "metadata": {},
   "outputs": [],
   "source": [
    "pushfirst!(pyimport(\"sys\").\"path\", \"\");\n",
    "subset_anneal = pyimport(\"subset_anneal\")\n",
    "linear_model = pyimport(\"sklearn.linear_model\")"
   ]
  },
  {
   "cell_type": "code",
   "execution_count": null,
   "id": "032ca9b5-cc0a-46d2-9847-2eb9e464572b",
   "metadata": {},
   "outputs": [],
   "source": [
    "function sim_anneal(x, y, k, score_function; seed, steps, Tmax, Tmin)\n",
    "    @suppress begin\n",
    "        optimizer = subset_anneal.SubsetOptimization(x, y, k, score_function, seed)\n",
    "        optimizer.steps = steps\n",
    "        optimizer.Tmax = Tmax\n",
    "        optimizer.Tmin = Tmin\n",
    "        best_idxs, _ = optimizer.anneal()\n",
    "        best_idxs .+= 1\n",
    "        return best_idxs\n",
    "    end\n",
    "end"
   ]
  },
  {
   "cell_type": "code",
   "execution_count": null,
   "id": "3577edfe-cad2-47b0-b79a-4fbdcb4fc310",
   "metadata": {},
   "outputs": [],
   "source": [
    "# Experiment parameters\n",
    "init_seed = 1234\n",
    "seed_rng = MersenneTwister(init_seed)\n",
    "steps = 10_000\n",
    "Tmax = 100_000\n",
    "Tmin = 1\n",
    "n_iter = 1_000\n",
    "k = 13\n",
    "n = 25\n",
    "score = (x, y) -> cor(x, y)^2"
   ]
  },
  {
   "cell_type": "code",
   "execution_count": null,
   "id": "0fa33dc8-6c71-4479-b45f-a2ee613e2e38",
   "metadata": {},
   "outputs": [],
   "source": [
    "matches = []\n",
    "ratios = []\n",
    "@showprogress for i in 1:n_iter\n",
    "    # Seed and generate data\n",
    "    seed = rand(seed_rng, UInt128)\n",
    "    data_rng = MersenneTwister(seed)\n",
    "    x, y = rand(data_rng, n), rand(data_rng, n)\n",
    "\n",
    "    # Separate programatically\n",
    "    idxs_prd = sim_anneal(\n",
    "        x, y, k, score; steps = steps, seed = seed, Tmax = Tmax, Tmin = Tmin)\n",
    "    score_prd = score(x[idxs_prd], y[idxs_prd])\n",
    "\n",
    "    # Separate via brute-force\n",
    "    idxs_grd, _ = brute_force(x, y, k, score)\n",
    "    score_grd = score(x[idxs_grd], y[idxs_grd])\n",
    "\n",
    "    push!(ratios, score_prd / score_grd)\n",
    "    push!(matches, sort(idxs_prd) == sort(idxs_grd))\n",
    "end"
   ]
  },
  {
   "cell_type": "code",
   "execution_count": null,
   "id": "7316d6f9-47cf-4f8f-b432-1bc81298eab9",
   "metadata": {},
   "outputs": [],
   "source": [
    "println(\"Average success rate: \", mean(matches))\n",
    "println(\"Average R2 ratio: \", mean(ratios))"
   ]
  }
 ],
 "metadata": {
  "kernelspec": {
   "display_name": "QuadraticSweep 1.11.1",
   "language": "julia",
   "name": "quadraticsweep-1.11"
  },
  "language_info": {
   "file_extension": ".jl",
   "mimetype": "application/julia",
   "name": "julia",
   "version": "1.11.1"
  }
 },
 "nbformat": 4,
 "nbformat_minor": 5
}
