{
 "cells": [
  {
   "cell_type": "code",
   "execution_count": null,
   "id": "a7b407c2-7b76-436a-99b1-c67c048bab1c",
   "metadata": {},
   "outputs": [],
   "source": [
    "using Random\n",
    "using Statistics\n",
    "using ProgressMeter\n",
    "using DataFrames\n",
    "using Suppressor\n",
    "using JuMP\n",
    "using Ipopt\n",
    "using Combinatorics\n",
    "import MathOptInterface as MOI"
   ]
  },
  {
   "cell_type": "markdown",
   "id": "2f703658-5956-4edd-827f-3d59a2fe4cba",
   "metadata": {},
   "source": [
    "The following notebook reproduces the tests in our original manuscript for the quadratic separability of the best subsets under various objective and lifting functions."
   ]
  },
  {
   "cell_type": "markdown",
   "id": "a1ee545f-3c68-4253-8622-5339fdf015cf",
   "metadata": {},
   "source": [
    "## Helper functions"
   ]
  },
  {
   "cell_type": "markdown",
   "id": "68869cf5-d168-4895-9bdd-6c8db9c2795c",
   "metadata": {},
   "source": [
    "We first write a method that uses Ipopt and JuMP to separate the convex hulls of the inliers and outliers for different objective and lift functions as described in the original manuscript:\n",
    "> We will map $\\mathcal I$ and $\\mathcal O$ into higher dimensional vector spaces such that $\\operatorname{conv}\\left( \\mathbf V_{\\mathcal I} \\right) \\cap \\operatorname{conv}\\left( \\mathbf V_{\\mathcal O} \\right) = \\emptyset$, where $\\mathbf V_{\\mathcal I}$ and $\\mathbf V_{\\mathcal O}$ are the two sets of points concatenated into separate matrices. Intersections of the two hulls can be detected by computing the smallest distance $d^*$ between any two points $\\mathbf v_1 \\in \\operatorname{conv}\\left( \\mathbf V_{\\mathcal I} \\right)$ and $\\mathbf v_2 \\in \\operatorname{conv}\\left( \\mathbf V_{\\mathcal O} \\right)$. If $d^* = 0$, then the points are identical and the intersection is non-empty. We can compute $d^*$ by solving the following quadratic program:\n",
    "\\begin{aligned}\n",
    "\\min \\ & \\lVert \\boldsymbol{\\lambda}^\\top \\mathbf V_{\\mathcal I} - \\boldsymbol{\\mu}^\\top \\mathbf V_{\\mathcal O} \\rVert_2^2 \\\\\n",
    "\\text{subject to} \\ & \\sum_{i=1}^{d} \\lambda_i = 1, \\\\\n",
    "& \\lambda_i \\geq 0 \\quad \\forall i \\in [d], \\\\\n",
    "& \\sum_{i=1}^{d} \\mu_i = 1, \\\\\n",
    "& \\mu_i \\geq 0 \\quad \\forall i \\in [d].\n",
    "\\end{aligned}"
   ]
  },
  {
   "cell_type": "code",
   "execution_count": null,
   "id": "323c1dcc-b05a-4eeb-95bc-f64746a6ff4f",
   "metadata": {},
   "outputs": [],
   "source": [
    "function lp_intersect(A::Matrix{Float64}, B::Matrix{Float64}, tol::Float64 = 1e-10)\n",
    "    @suppress begin\n",
    "        @assert size(A, 2)==size(B, 2) \"Points must have same dimension\"\n",
    "\n",
    "        m, d = size(A)\n",
    "        n, _ = size(B)\n",
    "\n",
    "        # Create model\n",
    "        model = Model(Ipopt.Optimizer)\n",
    "        set_silent(model)\n",
    "\n",
    "        # Define variables\n",
    "        @variable(model, lambda[1:m]>=0)\n",
    "        @variable(model, mu[1:n]>=0)\n",
    "\n",
    "        # Constraints\n",
    "        @constraint(model, sum(lambda)==1)\n",
    "        @constraint(model, sum(mu)==1)\n",
    "\n",
    "        # Objective function\n",
    "        diff = lambda' * A .- mu' * B\n",
    "        @objective(model, Min, sum(diff .^ 2))\n",
    "\n",
    "        # Optimize the model\n",
    "        optimize!(model)\n",
    "\n",
    "        # Return whether less than tol\n",
    "        return model\n",
    "    end\n",
    "end;"
   ]
  },
  {
   "cell_type": "markdown",
   "id": "55049df2-f0e4-417d-b0d2-21826aa5b116",
   "metadata": {},
   "source": [
    "Next, we write a simple method that uses brute-force to partition the points using brute-force combinatorial search according to arbitrary scoring functions."
   ]
  },
  {
   "cell_type": "code",
   "execution_count": null,
   "id": "337cd930-1b73-4ea1-8de4-aca6212d27f9",
   "metadata": {},
   "outputs": [],
   "source": [
    "function brute_force_partition(x::Vector{Float64}, y::Vector{Float64}, k::Int,\n",
    "        score::Function)::Tuple{Vector{Int64}, Vector{Int64}}\n",
    "    n = size(x, 1)\n",
    "    best_val = -Inf\n",
    "    best_idxs = nothing\n",
    "\n",
    "    # Try each subset of size k\n",
    "    for idxs in combinations(1:n, k)\n",
    "        if (val = score(x[idxs], y[idxs])) > best_val\n",
    "            best_val = val\n",
    "            best_idxs = idxs\n",
    "        end\n",
    "    end\n",
    "\n",
    "    # Get complement of best set\n",
    "    comp_idxs = setdiff(1:n, best_idxs)\n",
    "\n",
    "    return best_idxs, comp_idxs\n",
    "end;"
   ]
  },
  {
   "cell_type": "markdown",
   "id": "42dd4975-6e03-4396-b62b-1ca9ecce2513",
   "metadata": {},
   "source": [
    "## Experiment parameters"
   ]
  },
  {
   "cell_type": "markdown",
   "id": "abc69b43-3ee5-48a3-98af-de51140a3718",
   "metadata": {},
   "source": [
    "Here, we define our score and lift functions."
   ]
  },
  {
   "cell_type": "code",
   "execution_count": null,
   "id": "4cbbbf65-f0ba-4edf-b266-0d71ac29e672",
   "metadata": {},
   "outputs": [],
   "source": [
    "scores = [\n",
    "    (x, y) -> cor(x, y),\n",
    "    (x, y) -> cor(x, y)^2,\n",
    "    (x, y) -> cov(x, y),\n",
    "    (x, y) -> var(x) + var(y),\n",
    "    (x, y) -> var(x) - var(y)\n",
    "]\n",
    "\n",
    "lifts = [\n",
    "    (x, y) -> hcat(x .^ 2, x .* y, y .^ 2, x, y),\n",
    "    (x, y) -> hcat(x .^ 2, y .^ 2, x, y),\n",
    "    (x, y) -> hcat(x .* y, x, y)\n",
    "];"
   ]
  },
  {
   "cell_type": "markdown",
   "id": "d9d11233-98ba-4216-8b78-9e81cfa24cf2",
   "metadata": {},
   "source": [
    "Now, we seed our experiment and set the parameters."
   ]
  },
  {
   "cell_type": "code",
   "execution_count": null,
   "id": "7976913a-3284-406e-b527-ce82b22bcc48",
   "metadata": {},
   "outputs": [],
   "source": [
    "tol = 1e-10\n",
    "init_seed = 1234\n",
    "seed_rng = MersenneTwister(init_seed)\n",
    "n_iter = 1_000\n",
    "k = 8\n",
    "n = 15;"
   ]
  },
  {
   "cell_type": "markdown",
   "id": "dff0542b-4aaf-49ff-8c33-d62eaf5e9158",
   "metadata": {},
   "source": [
    "## Run experiment"
   ]
  },
  {
   "cell_type": "markdown",
   "id": "05466817-19cc-4e62-ba9e-9373f6623c13",
   "metadata": {},
   "source": [
    "We now initialize our dataframe, run the experiment, and view the results."
   ]
  },
  {
   "cell_type": "code",
   "execution_count": null,
   "id": "094dc80c-0eaa-49af-8af6-f636c8242ce2",
   "metadata": {},
   "outputs": [],
   "source": [
    "# DataFrame to store the means and standard deviations of all combinations\n",
    "summary_df = DataFrame(\n",
    "    score_func = String[],\n",
    "    lift_func = String[],\n",
    "    mean_success = Float64[],\n",
    "    std_success = Float64[],\n",
    "    mean_objective_value = Float64[],\n",
    "    std_objective_value = Float64[],\n",
    "    mean_dual_objective_value = Float64[],\n",
    "    std_dual_objective_value = Float64[],\n",
    "    mean_barrier_iterations = Float64[],\n",
    "    std_barrier_iterations = Float64[],\n",
    "    mean_solve_time = Float64[],\n",
    "    std_solve_time = Float64[]\n",
    ");"
   ]
  },
  {
   "cell_type": "code",
   "execution_count": null,
   "id": "ee7420d0-5f61-40c8-a180-3b6c26974189",
   "metadata": {},
   "outputs": [],
   "source": [
    "for score_idx in 1:length(scores)\n",
    "    for lift_idx in 1:length(lifts)\n",
    "        score = scores[score_idx]\n",
    "        lift = lifts[lift_idx]\n",
    "\n",
    "        results_df = DataFrame(\n",
    "            success_value = Bool[],\n",
    "            objective_value = Float64[],\n",
    "            dual_objective_value = Float64[],\n",
    "            barrier_iterations = Int[],\n",
    "            solve_time = Float64[]\n",
    "        )\n",
    "\n",
    "        @showprogress for i in 1:n_iter\n",
    "            # Seed and generate data\n",
    "            seed = rand(seed_rng, UInt128)\n",
    "            data_rng = MersenneTwister(seed)\n",
    "            x, y = rand(data_rng, n), rand(data_rng, n)\n",
    "\n",
    "            # Separate via brute-force\n",
    "            best_idxs, comp_idxs = brute_force_partition(x, y, k, score)\n",
    "\n",
    "            # Lift data\n",
    "            lifted = lift(x, y)\n",
    "            A = lifted[best_idxs, :]\n",
    "            B = lifted[comp_idxs, :]\n",
    "\n",
    "            model = lp_intersect(A, B)\n",
    "\n",
    "            # Collect optimization attributes\n",
    "            obj_value = MOI.get(model, MOI.ObjectiveValue())\n",
    "            dual_obj_value = MOI.get(model, MOI.DualObjectiveValue())\n",
    "            barrier_iters = MOI.get(model, MOI.BarrierIterations())\n",
    "            solve_time = MOI.get(model, MOI.SolveTimeSec())\n",
    "            success = obj_value > tol\n",
    "\n",
    "            # Append results to the DataFrame\n",
    "            push!(\n",
    "                results_df, (success, obj_value, dual_obj_value, barrier_iters, solve_time))\n",
    "        end\n",
    "\n",
    "        # Compute mean and standard deviation of the attributes\n",
    "        mean_values = combine(results_df, names(results_df) .=> mean)\n",
    "        std_values = combine(results_df, names(results_df) .=> std)\n",
    "\n",
    "        # Append the mean and std results to the summary DataFrame\n",
    "        push!(summary_df,\n",
    "            (\n",
    "                \"score_$score_idx\",  # Adding labels for each score and lift\n",
    "                \"lift_$lift_idx\",\n",
    "                mean_values[1, :success_value_mean], std_values[1, :success_value_std],\n",
    "                mean_values[1, :objective_value_mean], std_values[1, :objective_value_std],\n",
    "                mean_values[1, :dual_objective_value_mean], std_values[\n",
    "                    1, :dual_objective_value_std],\n",
    "                mean_values[1, :barrier_iterations_mean], std_values[\n",
    "                    1, :barrier_iterations_std],\n",
    "                mean_values[1, :solve_time_mean], std_values[1, :solve_time_std]\n",
    "            ))\n",
    "    end\n",
    "end"
   ]
  },
  {
   "cell_type": "code",
   "execution_count": null,
   "id": "306e4601-efea-4168-a14e-c00635699e99",
   "metadata": {},
   "outputs": [],
   "source": [
    "summary_df"
   ]
  }
 ],
 "metadata": {
  "kernelspec": {
   "display_name": "QuadraticSweep 1.11.1",
   "language": "julia",
   "name": "quadraticsweep-1.11"
  },
  "language_info": {
   "file_extension": ".jl",
   "mimetype": "application/julia",
   "name": "julia",
   "version": "1.11.1"
  }
 },
 "nbformat": 4,
 "nbformat_minor": 5
}
