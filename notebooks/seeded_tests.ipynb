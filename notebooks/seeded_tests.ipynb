{
 "cells": [
  {
   "cell_type": "code",
   "execution_count": null,
   "id": "3e83c0ed-9a7d-473b-ab24-5fec66142562",
   "metadata": {},
   "outputs": [],
   "source": [
    "using Random\n",
    "using ProgressMeter\n",
    "using QuadraticSweep\n",
    "using Test"
   ]
  },
  {
   "cell_type": "markdown",
   "id": "8b30ca49-a1fb-492a-9de7-36c11cde0222",
   "metadata": {},
   "source": [
    "In the following notebook, we test the quadratic sweep against brute-force combinatorial search. The results in experiments section in the original manuscript were obtained by running a similar loop. The scoring function and experiment parameters can be changed below."
   ]
  },
  {
   "cell_type": "code",
   "execution_count": null,
   "id": "9dce0983-8ccc-4a6e-85db-a7483329a458",
   "metadata": {},
   "outputs": [],
   "source": [
    "# Experiment parameters\n",
    "seed_rng = MersenneTwister(123)\n",
    "n_iter = 1_000\n",
    "k = 10\n",
    "n = 20\n",
    "score = :r2;"
   ]
  },
  {
   "cell_type": "code",
   "execution_count": null,
   "id": "b3bf8101-977d-4a3b-ba62-19538b789fe8",
   "metadata": {},
   "outputs": [],
   "source": [
    "# Wrap the test loop inside a testset\n",
    "@testset \"Quadratic Sweep vs Brute Force\" begin\n",
    "    @showprogress for i in 1:n_iter\n",
    "        # Seed and generate data\n",
    "        seed = rand(seed_rng, UInt128)\n",
    "        data_rng = MersenneTwister(seed)\n",
    "        x, y = rand(data_rng, n), rand(data_rng, n)\n",
    "\n",
    "        # Separate programmatically\n",
    "        idxs_prd, score_prd = sweep(x, y; k = k, score = score)\n",
    "\n",
    "        # Separate via brute-force\n",
    "        idxs_grd, score_grd = brute_force(x, y; k = k, score = score)\n",
    "\n",
    "        # Check for match\n",
    "        @test idxs_prd == idxs_grd\n",
    "        @test isapprox(score_prd, score_grd)\n",
    "    end\n",
    "end"
   ]
  }
 ],
 "metadata": {
  "kernelspec": {
   "display_name": "QuadraticSweep 1.11.1",
   "language": "julia",
   "name": "quadraticsweep-1.11"
  },
  "language_info": {
   "file_extension": ".jl",
   "mimetype": "application/julia",
   "name": "julia",
   "version": "1.11.1"
  }
 },
 "nbformat": 4,
 "nbformat_minor": 5
}
